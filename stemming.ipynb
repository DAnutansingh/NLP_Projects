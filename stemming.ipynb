{
  "nbformat": 4,
  "nbformat_minor": 0,
  "metadata": {
    "colab": {
      "provenance": [],
      "gpuType": "T4"
    },
    "kernelspec": {
      "name": "python3",
      "display_name": "Python 3"
    },
    "language_info": {
      "name": "python"
    },
    "accelerator": "GPU"
  },
  "cells": [
    {
      "cell_type": "code",
      "execution_count": null,
      "metadata": {
        "id": "3iB5OYyQcRkS"
      },
      "outputs": [],
      "source": [
        "import nltk"
      ]
    },
    {
      "cell_type": "code",
      "source": [
        "nltk.download('punkt_tab')"
      ],
      "metadata": {
        "colab": {
          "base_uri": "https://localhost:8080/"
        },
        "id": "oHac2WdxcYX1",
        "outputId": "36296f54-4513-44de-a3ec-5e25f6005033"
      },
      "execution_count": null,
      "outputs": [
        {
          "output_type": "stream",
          "name": "stderr",
          "text": [
            "[nltk_data] Downloading package punkt_tab to /root/nltk_data...\n",
            "[nltk_data]   Unzipping tokenizers/punkt_tab.zip.\n"
          ]
        },
        {
          "output_type": "execute_result",
          "data": {
            "text/plain": [
              "True"
            ]
          },
          "metadata": {},
          "execution_count": 9
        }
      ]
    },
    {
      "cell_type": "code",
      "source": [
        "from nltk.stem import PorterStemmer\n",
        "from nltk.tokenize import word_tokenize\n",
        "text=\"Internationalization of indian products and services to be utilized at international forums.\"\n",
        "stemmer = PorterStemmer()\n",
        "words = word_tokenize(text)\n",
        "stemmered_words=[stemmer.stem(word) for word in words]\n",
        "print(\"Stemmered_words:\",stemmered_words)"
      ],
      "metadata": {
        "colab": {
          "base_uri": "https://localhost:8080/"
        },
        "id": "T_1YM04AcpUb",
        "outputId": "c4021e3c-8e1e-4fe9-d6e5-3461e296642a"
      },
      "execution_count": null,
      "outputs": [
        {
          "output_type": "stream",
          "name": "stdout",
          "text": [
            "Stemmered_words: ['internation', 'of', 'indian', 'product', 'and', 'servic', 'to', 'be', 'util', 'at', 'intern', 'forum', '.']\n"
          ]
        }
      ]
    },
    {
      "cell_type": "code",
      "source": [
        "from nltk.stem import SnowballStemmer\n",
        "from nltk.tokenize import word_tokenize\n",
        "text=\"Internationalization of indian products and services to be utilized at international forums.\"\n",
        "stemmer = nltk.SnowballStemmer(language='english')\n",
        "words = word_tokenize(text)\n",
        "stemmered_words=[stemmer.stem(word) for word in words]\n",
        "print(\"Stemmered_words:\",stemmered_words)"
      ],
      "metadata": {
        "colab": {
          "base_uri": "https://localhost:8080/"
        },
        "id": "-T0RgF3Hg3Cj",
        "outputId": "b193dc91-52dc-407c-a3ed-4e2e62be49d0"
      },
      "execution_count": null,
      "outputs": [
        {
          "output_type": "stream",
          "name": "stdout",
          "text": [
            "Stemmered_words: ['internation', 'of', 'indian', 'product', 'and', 'servic', 'to', 'be', 'util', 'at', 'intern', 'forum', '.']\n"
          ]
        }
      ]
    },
    {
      "cell_type": "code",
      "source": [
        "nltk.download('wordnet')"
      ],
      "metadata": {
        "colab": {
          "base_uri": "https://localhost:8080/"
        },
        "id": "Hd-tgoCkjCca",
        "outputId": "0719fb5b-bef4-490f-c65b-c13c6d00501b"
      },
      "execution_count": null,
      "outputs": [
        {
          "output_type": "stream",
          "name": "stderr",
          "text": [
            "[nltk_data] Downloading package wordnet to /root/nltk_data...\n"
          ]
        },
        {
          "output_type": "execute_result",
          "data": {
            "text/plain": [
              "True"
            ]
          },
          "metadata": {},
          "execution_count": 19
        }
      ]
    },
    {
      "cell_type": "code",
      "source": [
        "from nltk.stem import WordNetLemmatizer\n",
        "from nltk.tokenize import word_tokenize\n",
        "text=\"Internationalization of indian products and services to be utilized at international forums.\"\n",
        "lemmatizer =WordNetLemmatizer()\n",
        "words=word_tokenize(text)\n",
        "lemmatized_words=[lemmatizer.lemmatize(word) for word in words]\n",
        "print(\"Lemmatized_words:\",lemmatized_words)"
      ],
      "metadata": {
        "colab": {
          "base_uri": "https://localhost:8080/"
        },
        "id": "QiZ4mZQHjcIr",
        "outputId": "b2f408d0-f287-4768-f9b6-24b62c853035"
      },
      "execution_count": null,
      "outputs": [
        {
          "output_type": "stream",
          "name": "stdout",
          "text": [
            "Lemmatized_words: ['Internationalization', 'of', 'indian', 'product', 'and', 'service', 'to', 'be', 'utilized', 'at', 'international', 'forum', '.']\n"
          ]
        }
      ]
    }
  ]
}