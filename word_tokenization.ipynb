{
  "nbformat": 4,
  "nbformat_minor": 0,
  "metadata": {
    "colab": {
      "provenance": [],
      "gpuType": "T4"
    },
    "kernelspec": {
      "name": "python3",
      "display_name": "Python 3"
    },
    "language_info": {
      "name": "python"
    },
    "accelerator": "GPU"
  },
  "cells": [
    {
      "cell_type": "code",
      "execution_count": null,
      "metadata": {
        "colab": {
          "base_uri": "https://localhost:8080/"
        },
        "id": "wDr5nuWM5M6r",
        "outputId": "befa17de-568d-47d8-9993-3c5c48cc4451"
      },
      "outputs": [
        {
          "output_type": "stream",
          "name": "stdout",
          "text": [
            "Requirement already satisfied: nltk in /usr/local/lib/python3.11/dist-packages (3.9.1)\n",
            "Requirement already satisfied: click in /usr/local/lib/python3.11/dist-packages (from nltk) (8.1.8)\n",
            "Requirement already satisfied: joblib in /usr/local/lib/python3.11/dist-packages (from nltk) (1.4.2)\n",
            "Requirement already satisfied: regex>=2021.8.3 in /usr/local/lib/python3.11/dist-packages (from nltk) (2024.11.6)\n",
            "Requirement already satisfied: tqdm in /usr/local/lib/python3.11/dist-packages (from nltk) (4.67.1)\n"
          ]
        }
      ],
      "source": [
        "pip install nltk"
      ]
    },
    {
      "cell_type": "code",
      "source": [
        "import nltk"
      ],
      "metadata": {
        "id": "j_uiAeNg5hpe"
      },
      "execution_count": null,
      "outputs": []
    },
    {
      "cell_type": "code",
      "source": [
        "nltk.download('punkt_tab')"
      ],
      "metadata": {
        "colab": {
          "base_uri": "https://localhost:8080/"
        },
        "id": "kH1O02BW7RG5",
        "outputId": "74ff52d4-dced-493a-ea28-9ce58642d8fd"
      },
      "execution_count": null,
      "outputs": [
        {
          "output_type": "stream",
          "name": "stderr",
          "text": [
            "[nltk_data] Downloading package punkt_tab to /root/nltk_data...\n",
            "[nltk_data]   Unzipping tokenizers/punkt_tab.zip.\n"
          ]
        },
        {
          "output_type": "execute_result",
          "data": {
            "text/plain": [
              "True"
            ]
          },
          "metadata": {},
          "execution_count": 8
        }
      ]
    },
    {
      "cell_type": "code",
      "source": [
        "from nltk.tokenize import word_tokenize, sent_tokenize\n",
        "text=\"Over the years, monitoring soil moisture levels of farmlands has been performed manually. This is often time-consuming and inefficient, necessitating a solution that is efficient in controlling and monitoring soil moisture conditions.\"\n",
        "sentences=nltk.sent_tokenize(text)\n",
        "print(\"Sentence:\",sentences)\n",
        "\n",
        "words=word_tokenize(text)\n",
        "print(\"Word:\",words)"
      ],
      "metadata": {
        "colab": {
          "base_uri": "https://localhost:8080/"
        },
        "id": "zV08MBhS7yjl",
        "outputId": "b3b24723-3cd3-445f-c1a1-f86bcca9b000"
      },
      "execution_count": null,
      "outputs": [
        {
          "output_type": "stream",
          "name": "stdout",
          "text": [
            "Sentence: ['Over the years, monitoring soil moisture levels of farmlands has been performed manually.', 'This is often time-consuming and inefficient, necessitating a solution that is efficient in controlling and monitoring soil moisture conditions.']\n",
            "Word: ['Over', 'the', 'years', ',', 'monitoring', 'soil', 'moisture', 'levels', 'of', 'farmlands', 'has', 'been', 'performed', 'manually', '.', 'This', 'is', 'often', 'time-consuming', 'and', 'inefficient', ',', 'necessitating', 'a', 'solution', 'that', 'is', 'efficient', 'in', 'controlling', 'and', 'monitoring', 'soil', 'moisture', 'conditions', '.']\n"
          ]
        }
      ]
    },
    {
      "cell_type": "code",
      "source": [
        "nltk.download('stopwords')"
      ],
      "metadata": {
        "colab": {
          "base_uri": "https://localhost:8080/"
        },
        "id": "-a_rKwfyB3NN",
        "outputId": "a7d8d2a7-338e-4940-c384-d4fe0f660a03"
      },
      "execution_count": null,
      "outputs": [
        {
          "output_type": "stream",
          "name": "stderr",
          "text": [
            "[nltk_data] Downloading package stopwords to /root/nltk_data...\n",
            "[nltk_data]   Package stopwords is already up-to-date!\n"
          ]
        },
        {
          "output_type": "execute_result",
          "data": {
            "text/plain": [
              "True"
            ]
          },
          "metadata": {},
          "execution_count": 12
        }
      ]
    },
    {
      "cell_type": "code",
      "source": [
        "from nltk.corpus import stopwords\n",
        "from nltk.tokenize import word_tokenize\n",
        "text=\"Over the years, monitoring soil moisture levels of farmlands has been performed manually. This is often time-consuming and inefficient, necessitating a solution that is efficient in controlling and monitoring soil moisture conditions.\"\n",
        "stop_words=set(stopwords.words('english'))\n",
        "words=word_tokenize(text)\n",
        "filtered_words=[word for word in words if word.lower() not in stop_words]\n",
        "print(\"Filtered Words:\",filtered_words)\n"
      ],
      "metadata": {
        "colab": {
          "base_uri": "https://localhost:8080/"
        },
        "id": "hfbiDvMqCBny",
        "outputId": "ed97b146-22dd-43a9-beed-653594776fd4"
      },
      "execution_count": null,
      "outputs": [
        {
          "output_type": "stream",
          "name": "stdout",
          "text": [
            "Filtered Words: ['years', ',', 'monitoring', 'soil', 'moisture', 'levels', 'farmlands', 'performed', 'manually', '.', 'often', 'time-consuming', 'inefficient', ',', 'necessitating', 'solution', 'efficient', 'controlling', 'monitoring', 'soil', 'moisture', 'conditions', '.']\n"
          ]
        }
      ]
    }
  ]
}